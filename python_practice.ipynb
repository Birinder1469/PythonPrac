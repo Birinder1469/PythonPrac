{
 "cells": [
  {
   "cell_type": "code",
   "execution_count": 1,
   "metadata": {},
   "outputs": [],
   "source": [
    "import numpy as np\n",
    "import pandas as pd\n",
    "from collections import Counter \n",
    "import operator \n",
    "import re\n",
    "# Practice excercises -> https://www.w3resource.com/python-exercises/"
   ]
  },
  {
   "cell_type": "markdown",
   "metadata": {},
   "source": [
    "# Data Types String "
   ]
  },
  {
   "cell_type": "markdown",
   "metadata": {},
   "source": [
    "## Task 1 "
   ]
  },
  {
   "cell_type": "code",
   "execution_count": 97,
   "metadata": {},
   "outputs": [],
   "source": [
    "# # Write a Python program to count the number of characters (character frequency) in a string.\n",
    "# Sample String : google.com'\n",
    "# Expected Result : {'g': 2, 'o': 3, 'l': 1, 'e': 1, '.': 1, 'c': 1, 'm': 1}"
   ]
  },
  {
   "cell_type": "code",
   "execution_count": 98,
   "metadata": {},
   "outputs": [],
   "source": [
    "string_input = 'google.com'"
   ]
  },
  {
   "cell_type": "code",
   "execution_count": 99,
   "metadata": {},
   "outputs": [
    {
     "data": {
      "text/plain": [
       "str"
      ]
     },
     "execution_count": 99,
     "metadata": {},
     "output_type": "execute_result"
    }
   ],
   "source": [
    "type(string_input)"
   ]
  },
  {
   "cell_type": "code",
   "execution_count": 100,
   "metadata": {},
   "outputs": [],
   "source": [
    "count = 0 ;\n",
    "charac_dictionary = {}\n",
    "\n",
    "for elem in string_input:\n",
    "\n",
    "    if elem not in charac_dictionary.keys():\n",
    "        charac_dictionary[elem] = 1\n",
    "    else:\n",
    "        charac_dictionary[elem]= charac_dictionary[elem] +1 \n"
   ]
  },
  {
   "cell_type": "code",
   "execution_count": 101,
   "metadata": {},
   "outputs": [
    {
     "data": {
      "text/plain": [
       "{'g': 2, 'o': 3, 'l': 1, 'e': 1, '.': 1, 'c': 1, 'm': 1}"
      ]
     },
     "execution_count": 101,
     "metadata": {},
     "output_type": "execute_result"
    }
   ],
   "source": [
    "charac_dictionary"
   ]
  },
  {
   "cell_type": "markdown",
   "metadata": {},
   "source": [
    "## Task 2 "
   ]
  },
  {
   "cell_type": "code",
   "execution_count": 102,
   "metadata": {},
   "outputs": [],
   "source": [
    "# Write a Python program to remove the nth index character from a nonempty string. Go to the editor\n",
    "# Click me to see the sample solution"
   ]
  },
  {
   "cell_type": "code",
   "execution_count": 103,
   "metadata": {},
   "outputs": [],
   "source": [
    "n = 2\n",
    "string_input =   'google.com'\n",
    "string_input_new = string_input[:n]+ string_input[n+1:]"
   ]
  },
  {
   "cell_type": "code",
   "execution_count": 104,
   "metadata": {},
   "outputs": [
    {
     "data": {
      "text/plain": [
       "'gogle.com'"
      ]
     },
     "execution_count": 104,
     "metadata": {},
     "output_type": "execute_result"
    }
   ],
   "source": [
    "string_input_new"
   ]
  },
  {
   "cell_type": "markdown",
   "metadata": {},
   "source": [
    "## Task 3"
   ]
  },
  {
   "cell_type": "code",
   "execution_count": null,
   "metadata": {},
   "outputs": [],
   "source": [
    "# Reverse a string if it's length is a multiple of 4"
   ]
  },
  {
   "cell_type": "code",
   "execution_count": 136,
   "metadata": {},
   "outputs": [
    {
     "data": {
      "text/plain": [
       "13"
      ]
     },
     "execution_count": 136,
     "metadata": {},
     "output_type": "execute_result"
    }
   ],
   "source": [
    "string_input  = 'BirinderSingh'\n",
    "len(string_input)"
   ]
  },
  {
   "cell_type": "code",
   "execution_count": 144,
   "metadata": {},
   "outputs": [],
   "source": [
    "def rever_string_4(string_input):\n",
    "    \n",
    "    string_input_new = ''\n",
    "\n",
    "    if len(string_input)%4 ==0 :\n",
    "        for char in string_input:\n",
    "            string_input_new = char+ string_input_new\n",
    "        return string_input_new\n",
    "    else:\n",
    "        \n",
    "        return string_input"
   ]
  },
  {
   "cell_type": "code",
   "execution_count": 153,
   "metadata": {},
   "outputs": [
    {
     "name": "stdout",
     "output_type": "stream",
     "text": [
      "16\n"
     ]
    },
    {
     "data": {
      "text/plain": [
       "'cuShgniSredniriB'"
      ]
     },
     "execution_count": 153,
     "metadata": {},
     "output_type": "execute_result"
    }
   ],
   "source": [
    "print(len('BirinderSinghSuc'))\n",
    "rever_string_4('BirinderSinghSuc')"
   ]
  },
  {
   "cell_type": "markdown",
   "metadata": {},
   "source": [
    "## Task 4"
   ]
  },
  {
   "cell_type": "code",
   "execution_count": 155,
   "metadata": {},
   "outputs": [],
   "source": [
    "# Write a Python function to convert a given string to all uppercase \n",
    "# if it contains at least 2 uppercase characters in the first 4 characters."
   ]
  },
  {
   "cell_type": "markdown",
   "metadata": {},
   "source": [
    "## Task 5"
   ]
  },
  {
   "cell_type": "code",
   "execution_count": 188,
   "metadata": {},
   "outputs": [],
   "source": [
    "string = '123876'\n",
    "width = 10"
   ]
  },
  {
   "cell_type": "code",
   "execution_count": 189,
   "metadata": {},
   "outputs": [
    {
     "data": {
      "text/plain": [
       "'123876xxxx'"
      ]
     },
     "execution_count": 189,
     "metadata": {},
     "output_type": "execute_result"
    }
   ],
   "source": [
    "string + (width - len(string)) * 'x'"
   ]
  },
  {
   "cell_type": "markdown",
   "metadata": {},
   "source": [
    "## Task 6"
   ]
  },
  {
   "cell_type": "code",
   "execution_count": 190,
   "metadata": {},
   "outputs": [],
   "source": [
    "# Write a Python program to remove spaces from a given string"
   ]
  },
  {
   "cell_type": "code",
   "execution_count": 198,
   "metadata": {},
   "outputs": [
    {
     "data": {
      "text/plain": [
       "'Birinder Singh Suchu Tejal Kadam'"
      ]
     },
     "execution_count": 198,
     "metadata": {},
     "output_type": "execute_result"
    }
   ],
   "source": [
    "string_input = 'Birinder Singh Suchu Tejal Kadam'\n",
    "string_input"
   ]
  },
  {
   "cell_type": "code",
   "execution_count": 199,
   "metadata": {},
   "outputs": [
    {
     "data": {
      "text/plain": [
       "'BirinderSinghSuchuTejalKadam'"
      ]
     },
     "execution_count": 199,
     "metadata": {},
     "output_type": "execute_result"
    }
   ],
   "source": [
    "string_input = string_input.replace(' ','')\n",
    "string_input"
   ]
  },
  {
   "cell_type": "markdown",
   "metadata": {},
   "source": [
    "## Task 7"
   ]
  },
  {
   "cell_type": "code",
   "execution_count": 200,
   "metadata": {},
   "outputs": [],
   "source": [
    "# Write a Python program to find the longest common sub-string from two given strings."
   ]
  },
  {
   "cell_type": "code",
   "execution_count": 203,
   "metadata": {},
   "outputs": [
    {
     "name": "stdout",
     "output_type": "stream",
     "text": [
      "Original Substrings:\n",
      " abcdefgh\n",
      " xswerabcdwd\n",
      "\n",
      "Common longest sub_string:\n",
      "abcd\n"
     ]
    }
   ],
   "source": [
    "from difflib import SequenceMatcher \n",
    "  \n",
    "def longest_Substring(s1,s2): \n",
    "  \n",
    "     seq_match = SequenceMatcher(None,s1,s2) \n",
    "  \n",
    "     match = seq_match.find_longest_match(0, len(s1), 0, len(s2)) \n",
    "  \n",
    "     # return the longest substring \n",
    "     if (match.size!=0): \n",
    "            return (s1[match.a: match.a + match.size])  \n",
    "        \n",
    "     else: \n",
    "            return ('Longest common sub-string not present')  \n",
    "\n",
    "s1 = 'abcdefgh'\n",
    "s2 = 'xswerabcdwd'\n",
    "print(\"Original Substrings:\\n\",s1+\"\\n\",s2)\n",
    "print(\"\\nCommon longest sub_string:\")\n",
    "print(longest_Substring(s1,s2))"
   ]
  },
  {
   "cell_type": "code",
   "execution_count": 208,
   "metadata": {},
   "outputs": [],
   "source": [
    "string1 = 'nBirinder'\n",
    "string2 = 'Birkljhgnlkll'"
   ]
  },
  {
   "cell_type": "code",
   "execution_count": 209,
   "metadata": {},
   "outputs": [
    {
     "data": {
      "text/plain": [
       "Match(a=1, b=0, size=3)"
      ]
     },
     "execution_count": 209,
     "metadata": {},
     "output_type": "execute_result"
    }
   ],
   "source": [
    "SequenceMatcher(None,string1, string2).find_longest_match(0, len(s1), 0, len(s2)) "
   ]
  },
  {
   "cell_type": "markdown",
   "metadata": {},
   "source": [
    "# Data Types List "
   ]
  },
  {
   "cell_type": "markdown",
   "metadata": {},
   "source": [
    "## Task 1"
   ]
  },
  {
   "cell_type": "code",
   "execution_count": 234,
   "metadata": {},
   "outputs": [],
   "source": [
    "# Write a Python program to get a list, sorted in increasing order by the last element in \n",
    "# each tuple from a given list of non-empty tuples. Go to the editor\n",
    "# Sample List : [(2, 5), (1, 2), (4, 4), (2, 3), (2, 1)]\n",
    "# Expected Result : [(2, 1), (1, 2), (2, 3), (4, 4), (2, 5)]"
   ]
  },
  {
   "cell_type": "code",
   "execution_count": 235,
   "metadata": {},
   "outputs": [],
   "source": [
    "list1 = [(2, 5), (1, 2), (4, 4), (2, 3), (2, 1)]"
   ]
  },
  {
   "cell_type": "code",
   "execution_count": 248,
   "metadata": {},
   "outputs": [
    {
     "name": "stdout",
     "output_type": "stream",
     "text": [
      "[(2, 3, 2), (2, 1, 2), (2, 5, 3), (1, 2, 6), (4, 4, 7)]\n"
     ]
    }
   ],
   "source": [
    "def last(n): return n[-1]\n",
    "\n",
    "def sort_list_last(tuples):\n",
    "      return sorted(tuples, key=last)\n",
    "\n",
    "print(sort_list_last([(2, 5,3), (1, 2,6), (4, 4,7), (2, 3,2), (2, 1,2)]))"
   ]
  },
  {
   "cell_type": "code",
   "execution_count": 255,
   "metadata": {},
   "outputs": [],
   "source": [
    "def end(inout):\n",
    "    return inout[-1]\n",
    "    \n",
    "def sort_list_tuples(input_list):\n",
    "    return sorted(input_list, key = end)"
   ]
  },
  {
   "cell_type": "code",
   "execution_count": 256,
   "metadata": {},
   "outputs": [
    {
     "data": {
      "text/plain": [
       "[(2, 1), (1, 2), (2, 3), (4, 4), (2, 5)]"
      ]
     },
     "execution_count": 256,
     "metadata": {},
     "output_type": "execute_result"
    }
   ],
   "source": [
    "sort_list_tuples(list1)"
   ]
  },
  {
   "cell_type": "markdown",
   "metadata": {},
   "source": [
    "## Task 2"
   ]
  },
  {
   "cell_type": "code",
   "execution_count": null,
   "metadata": {},
   "outputs": [],
   "source": [
    "# Write a Python program to generate all permutations of a list in Python."
   ]
  },
  {
   "cell_type": "code",
   "execution_count": 258,
   "metadata": {},
   "outputs": [
    {
     "data": {
      "text/plain": [
       "[(2, 3, 4), (2, 4, 3), (3, 2, 4), (3, 4, 2), (4, 2, 3), (4, 3, 2)]"
      ]
     },
     "execution_count": 258,
     "metadata": {},
     "output_type": "execute_result"
    }
   ],
   "source": [
    "import itertools \n",
    "list(itertools.permutations([2,3,4]))"
   ]
  },
  {
   "cell_type": "markdown",
   "metadata": {},
   "source": [
    "## Task 3"
   ]
  },
  {
   "cell_type": "code",
   "execution_count": null,
   "metadata": {},
   "outputs": [],
   "source": [
    "# Write a Python program to find the index of an item in a specified list."
   ]
  },
  {
   "cell_type": "code",
   "execution_count": 269,
   "metadata": {},
   "outputs": [],
   "source": [
    "list1 = ['Birinder','Sam','neha', 'sun', 'moon' ]"
   ]
  },
  {
   "cell_type": "code",
   "execution_count": 271,
   "metadata": {},
   "outputs": [
    {
     "data": {
      "text/plain": [
       "2"
      ]
     },
     "execution_count": 271,
     "metadata": {},
     "output_type": "execute_result"
    }
   ],
   "source": [
    "elem = 'neha'\n",
    "list1.index(elem)"
   ]
  },
  {
   "cell_type": "markdown",
   "metadata": {},
   "source": [
    "## Task 4"
   ]
  },
  {
   "cell_type": "code",
   "execution_count": 273,
   "metadata": {},
   "outputs": [],
   "source": [
    "# Write a Python program to create a list by concatenating a given list \n",
    "# which range goes from 1 to n. Go to the editor\n",
    "# Sample list : ['p', 'q']\n",
    "# n =5\n",
    "# Sample Output : ['p1', 'q1', 'p2', 'q2', 'p3', 'q3', 'p4', 'q4', 'p5', 'q5']"
   ]
  },
  {
   "cell_type": "code",
   "execution_count": 280,
   "metadata": {},
   "outputs": [],
   "source": [
    "list1 = ['p', 'q']\n",
    "n = 5\n",
    "list2= []\n",
    "for i in range(1,n+1):\n",
    "    for elem in list1:\n",
    "        el = elem+str(i)\n",
    "        list2.append(el)"
   ]
  },
  {
   "cell_type": "code",
   "execution_count": 281,
   "metadata": {},
   "outputs": [
    {
     "data": {
      "text/plain": [
       "['p1', 'q1', 'p2', 'q2', 'p3', 'q3', 'p4', 'q4', 'p5', 'q5']"
      ]
     },
     "execution_count": 281,
     "metadata": {},
     "output_type": "execute_result"
    }
   ],
   "source": [
    "list2"
   ]
  },
  {
   "cell_type": "markdown",
   "metadata": {},
   "source": [
    "## Task 5"
   ]
  },
  {
   "cell_type": "code",
   "execution_count": null,
   "metadata": {},
   "outputs": [],
   "source": [
    "# Write a Python program to split a list every Nth element. Go to the editor\n",
    "# Sample list: ['a', 'b', 'c', 'd', 'e', 'f', 'g', 'h', 'i', 'j', 'k', 'l', 'm', 'n']\n",
    "# Expected Output: [['a', 'd', 'g', 'j', 'm'], ['b', 'e', 'h', 'k', 'n'], ['c', 'f', 'i', 'l']]\n",
    "# Click me to see the sample solution"
   ]
  },
  {
   "cell_type": "code",
   "execution_count": 340,
   "metadata": {},
   "outputs": [],
   "source": [
    "list1 = ['a', 'b', 'c', 'd', 'e', 'f', 'g', 'h', 'i', 'j', 'k', 'l', 'm', 'n']\n",
    "n = 3"
   ]
  },
  {
   "cell_type": "code",
   "execution_count": 350,
   "metadata": {},
   "outputs": [],
   "source": [
    "list3= []\n",
    "for i in range(n):\n",
    "    list2 = []\n",
    "    j=0\n",
    "    while (i + j*n) < len(list1):\n",
    "        list2.append(list1[i + j*n])\n",
    "        j = j+1 \n",
    "    else:\n",
    "        pass\n",
    "    list3.append(list2)"
   ]
  },
  {
   "cell_type": "code",
   "execution_count": 347,
   "metadata": {},
   "outputs": [
    {
     "data": {
      "text/plain": [
       "['a', 'd', 'g', 'j', 'm']"
      ]
     },
     "execution_count": 347,
     "metadata": {},
     "output_type": "execute_result"
    }
   ],
   "source": [
    "list1[0::3]"
   ]
  },
  {
   "cell_type": "code",
   "execution_count": 352,
   "metadata": {},
   "outputs": [
    {
     "data": {
      "text/plain": [
       "[['a', 'd', 'g', 'j', 'm'], ['b', 'e', 'h', 'k', 'n'], ['c', 'f', 'i', 'l']]"
      ]
     },
     "execution_count": 352,
     "metadata": {},
     "output_type": "execute_result"
    }
   ],
   "source": [
    "list3"
   ]
  },
  {
   "cell_type": "markdown",
   "metadata": {},
   "source": [
    "## Task 6"
   ]
  },
  {
   "cell_type": "code",
   "execution_count": 354,
   "metadata": {},
   "outputs": [],
   "source": [
    "# Access dictionary key’s element by index\n",
    "num = {'physics': 80, 'math': 90, 'chemistry': 86}"
   ]
  },
  {
   "cell_type": "code",
   "execution_count": 361,
   "metadata": {},
   "outputs": [
    {
     "data": {
      "text/plain": [
       "'physics'"
      ]
     },
     "execution_count": 361,
     "metadata": {},
     "output_type": "execute_result"
    }
   ],
   "source": [
    "list(num)[0]"
   ]
  },
  {
   "cell_type": "code",
   "execution_count": 360,
   "metadata": {},
   "outputs": [
    {
     "data": {
      "text/plain": [
       "'physics'"
      ]
     },
     "execution_count": 360,
     "metadata": {},
     "output_type": "execute_result"
    }
   ],
   "source": [
    "list(num.keys())[0]"
   ]
  },
  {
   "cell_type": "markdown",
   "metadata": {},
   "source": [
    "## Task 7"
   ]
  },
  {
   "cell_type": "code",
   "execution_count": null,
   "metadata": {},
   "outputs": [],
   "source": [
    "# Write a Python program to create a 3X3 grid with numbers. Go to the editor\n",
    "# 3X3 grid with numbers:\n",
    "# [[1, 2, 3], [1, 2, 3], [1, 2, 3]]"
   ]
  },
  {
   "cell_type": "code",
   "execution_count": 372,
   "metadata": {},
   "outputs": [],
   "source": [
    "n=7\n",
    "list1= []\n",
    "for i in range(1,n+1):\n",
    "    list2= [] \n",
    "    for j in range(1,n+1):\n",
    "        list2.append(j)\n",
    "        \n",
    "    list1.append(list2)"
   ]
  },
  {
   "cell_type": "code",
   "execution_count": 373,
   "metadata": {},
   "outputs": [
    {
     "data": {
      "text/plain": [
       "[[1, 2, 3, 4, 5, 6, 7],\n",
       " [1, 2, 3, 4, 5, 6, 7],\n",
       " [1, 2, 3, 4, 5, 6, 7],\n",
       " [1, 2, 3, 4, 5, 6, 7],\n",
       " [1, 2, 3, 4, 5, 6, 7],\n",
       " [1, 2, 3, 4, 5, 6, 7],\n",
       " [1, 2, 3, 4, 5, 6, 7]]"
      ]
     },
     "execution_count": 373,
     "metadata": {},
     "output_type": "execute_result"
    }
   ],
   "source": [
    "list1"
   ]
  },
  {
   "cell_type": "markdown",
   "metadata": {},
   "source": [
    "# Data Structure and Algorithms "
   ]
  },
  {
   "cell_type": "markdown",
   "metadata": {},
   "source": [
    "## Task 1"
   ]
  },
  {
   "cell_type": "code",
   "execution_count": 10,
   "metadata": {},
   "outputs": [],
   "source": [
    "# # Write a Python program to count the number of students of individual class.\n",
    "# Counter({'VI': 3, 'V': 2, 'VII': 1})"
   ]
  },
  {
   "cell_type": "code",
   "execution_count": 4,
   "metadata": {},
   "outputs": [],
   "source": [
    "counter = {}\n",
    "classes = (('V', 1),('VI', 1),('V', 2),('VI', 2),('VI', 3),('VII', 1))"
   ]
  },
  {
   "cell_type": "code",
   "execution_count": 15,
   "metadata": {},
   "outputs": [
    {
     "name": "stdout",
     "output_type": "stream",
     "text": [
      "1\n",
      "1\n",
      "2\n",
      "2\n",
      "3\n",
      "1\n"
     ]
    }
   ],
   "source": [
    "for a,b in classes:\n",
    "    print(b)"
   ]
  },
  {
   "cell_type": "code",
   "execution_count": 17,
   "metadata": {},
   "outputs": [
    {
     "data": {
      "text/plain": [
       "Counter({'V': 2, 'VI': 3, 'VII': 1})"
      ]
     },
     "execution_count": 17,
     "metadata": {},
     "output_type": "execute_result"
    }
   ],
   "source": [
    "Counter( class_name for class_name, count in classes)"
   ]
  },
  {
   "cell_type": "markdown",
   "metadata": {},
   "source": [
    "# Data Types Dictionary"
   ]
  },
  {
   "cell_type": "markdown",
   "metadata": {},
   "source": [
    "## Task 1 "
   ]
  },
  {
   "cell_type": "code",
   "execution_count": 375,
   "metadata": {},
   "outputs": [],
   "source": [
    "# Write a Python program to sort (ascending and descending) a dictionary by value."
   ]
  },
  {
   "cell_type": "code",
   "execution_count": 416,
   "metadata": {},
   "outputs": [
    {
     "data": {
      "text/plain": [
       "[('physics', 80), ('chemistry', 86), ('math', 90)]"
      ]
     },
     "execution_count": 416,
     "metadata": {},
     "output_type": "execute_result"
    }
   ],
   "source": [
    "num = {'physics': 80, 'math': 90, 'chemistry': 86}\n",
    "\n",
    "sorted(num.items() , key  = lambda kv : kv[1])"
   ]
  },
  {
   "cell_type": "code",
   "execution_count": 423,
   "metadata": {},
   "outputs": [
    {
     "data": {
      "text/plain": [
       "[('physics', 80), ('chemistry', 86), ('math', 90)]"
      ]
     },
     "execution_count": 423,
     "metadata": {},
     "output_type": "execute_result"
    }
   ],
   "source": [
    "sorted(num.items(),key = operator.itemgetter(1))"
   ]
  },
  {
   "cell_type": "markdown",
   "metadata": {},
   "source": [
    "## Task 2"
   ]
  },
  {
   "cell_type": "code",
   "execution_count": 445,
   "metadata": {},
   "outputs": [],
   "source": [
    "num1 = {'physics': 80, 'math': 90, 'chemistry': 86}\n",
    "num2 = {'aphysics': 850, 'hmath': 190, 'bchemistry': 286,'chemistry': 865}"
   ]
  },
  {
   "cell_type": "code",
   "execution_count": 446,
   "metadata": {},
   "outputs": [
    {
     "data": {
      "text/plain": [
       "dict_items([('physics', 80), ('math', 90), ('chemistry', 86)])"
      ]
     },
     "execution_count": 446,
     "metadata": {},
     "output_type": "execute_result"
    }
   ],
   "source": [
    "num1.items()"
   ]
  },
  {
   "cell_type": "code",
   "execution_count": 447,
   "metadata": {},
   "outputs": [],
   "source": [
    "num3 = {}\n",
    "for i in num1.keys():\n",
    "    if i in num3.keys():\n",
    "        num3[i] = num3[i]+num1[i]\n",
    "    else:\n",
    "        num3[i] = num1[i]\n",
    "    \n",
    "for i in num2.keys():\n",
    "    if i in num3.keys():\n",
    "        num3[i] = num3[i]+num2[i]\n",
    "    else:\n",
    "        num3[i] = num2[i]   "
   ]
  },
  {
   "cell_type": "code",
   "execution_count": 448,
   "metadata": {},
   "outputs": [
    {
     "data": {
      "text/plain": [
       "{'physics': 80,\n",
       " 'math': 90,\n",
       " 'chemistry': 951,\n",
       " 'aphysics': 850,\n",
       " 'hmath': 190,\n",
       " 'bchemistry': 286}"
      ]
     },
     "execution_count": 448,
     "metadata": {},
     "output_type": "execute_result"
    }
   ],
   "source": [
    "num3"
   ]
  },
  {
   "cell_type": "markdown",
   "metadata": {},
   "source": [
    "## Task 3"
   ]
  },
  {
   "cell_type": "code",
   "execution_count": 454,
   "metadata": {},
   "outputs": [],
   "source": [
    "# Write a Python program to get the top three items in a shop. Go to the editor\n",
    "# Sample data: {'item1': 45.50, 'item2':35, 'item3': 41.30, 'item4':55, 'item5': 24}\n",
    "# Expected Output:\n",
    "# item4 55\n",
    "# item1 45.5\n",
    "# item3 41.3"
   ]
  },
  {
   "cell_type": "code",
   "execution_count": 463,
   "metadata": {},
   "outputs": [],
   "source": [
    "num5 = {'item1': 45.50, 'item2':35, 'item3': 41.30, 'item4':55, 'item5': 24}"
   ]
  },
  {
   "cell_type": "code",
   "execution_count": 468,
   "metadata": {},
   "outputs": [
    {
     "data": {
      "text/plain": [
       "[('item4', 55), ('item1', 45.5), ('item3', 41.3)]"
      ]
     },
     "execution_count": 468,
     "metadata": {},
     "output_type": "execute_result"
    }
   ],
   "source": [
    "sorted(num5.items() , key = lambda kv: kv[1], reverse = True)[:3]"
   ]
  },
  {
   "cell_type": "code",
   "execution_count": 469,
   "metadata": {},
   "outputs": [
    {
     "data": {
      "text/plain": [
       "[('item4', 55), ('item1', 45.5), ('item3', 41.3)]"
      ]
     },
     "execution_count": 469,
     "metadata": {},
     "output_type": "execute_result"
    }
   ],
   "source": [
    "sorted(num5.items() , key = operator.itemgetter(1), reverse = True)[:3]"
   ]
  },
  {
   "cell_type": "markdown",
   "metadata": {},
   "source": [
    "# Task 4"
   ]
  },
  {
   "cell_type": "code",
   "execution_count": null,
   "metadata": {},
   "outputs": [],
   "source": [
    "# Write a Python program to combine two dictionary adding values for common keys. Go to the editor\n",
    "# d1 = {'a': 100, 'b': 200, 'c':300}\n",
    "# d2 = {'a': 300, 'b': 200, 'd':400}\n",
    "# Sample output: Counter({'a': 400, 'b': 400, 'd': 400, 'c': 300})"
   ]
  },
  {
   "cell_type": "code",
   "execution_count": 74,
   "metadata": {},
   "outputs": [],
   "source": [
    "d1 = {'a': 100, 'b': 200, 'c':300}\n",
    "d2 = {'a': 300, 'b': 200, 'd':400, 'e':654}"
   ]
  },
  {
   "cell_type": "code",
   "execution_count": 75,
   "metadata": {},
   "outputs": [],
   "source": [
    "def add_dictionary(d3, d1):\n",
    "    print(d1)\n",
    "    for key in d1.keys():\n",
    "        if key not in d3.keys():\n",
    "            d3[key] = d1[key]\n",
    "        else:\n",
    "            d3[key] = d1[key]+d3[key]\n",
    "            \n",
    "    return d3"
   ]
  },
  {
   "cell_type": "code",
   "execution_count": 76,
   "metadata": {},
   "outputs": [
    {
     "name": "stdout",
     "output_type": "stream",
     "text": [
      "{'a': 100, 'b': 200, 'c': 300}\n",
      "{'a': 300, 'b': 200, 'd': 400, 'e': 654}\n"
     ]
    },
    {
     "data": {
      "text/plain": [
       "{'a': 400, 'b': 400, 'c': 300, 'd': 400, 'e': 654}"
      ]
     },
     "execution_count": 76,
     "metadata": {},
     "output_type": "execute_result"
    }
   ],
   "source": [
    "d3= {}\n",
    "d31 = add_dictionary(d3, d1)\n",
    "d32 = add_dictionary(d31, d2)\n",
    "d32"
   ]
  },
  {
   "cell_type": "code",
   "execution_count": 77,
   "metadata": {},
   "outputs": [],
   "source": [
    "d3 = {}\n",
    "for key in d1.keys():\n",
    "    if key not in d3.keys():\n",
    "        d3[key] = d1[key]\n",
    "    else:\n",
    "        d3[key] = d1[key]+d3[key]\n",
    "    \n",
    "for key in d2.keys():\n",
    "    if key not in d3.keys():\n",
    "        d3[key] = d2[key]\n",
    "    else:\n",
    "        d3[key] = d2[key]+d3[key]"
   ]
  },
  {
   "cell_type": "code",
   "execution_count": 78,
   "metadata": {},
   "outputs": [
    {
     "data": {
      "text/plain": [
       "{'a': 400, 'b': 400, 'c': 300, 'd': 400, 'e': 654}"
      ]
     },
     "execution_count": 78,
     "metadata": {},
     "output_type": "execute_result"
    }
   ],
   "source": [
    "d3"
   ]
  },
  {
   "cell_type": "code",
   "execution_count": 79,
   "metadata": {},
   "outputs": [
    {
     "data": {
      "text/plain": [
       "dict_keys(['a', 'b', 'c'])"
      ]
     },
     "execution_count": 79,
     "metadata": {},
     "output_type": "execute_result"
    }
   ],
   "source": [
    "d1.keys()"
   ]
  },
  {
   "cell_type": "code",
   "execution_count": 81,
   "metadata": {},
   "outputs": [
    {
     "data": {
      "text/plain": [
       "Counter({'a': 400, 'b': 400, 'c': 300, 'd': 400, 'e': 654})"
      ]
     },
     "execution_count": 81,
     "metadata": {},
     "output_type": "execute_result"
    }
   ],
   "source": [
    "# Simple way \n",
    "Counter(d1)+ Counter(d2)"
   ]
  },
  {
   "cell_type": "markdown",
   "metadata": {},
   "source": [
    "# Task 5"
   ]
  },
  {
   "cell_type": "code",
   "execution_count": 86,
   "metadata": {},
   "outputs": [],
   "source": [
    "# Write a Python program to create a dictionary from a string. Go to the editor\n",
    "# Note: Track the count of the letters from the string.\n",
    "# Sample string : 'w3resource'\n",
    "# Expected output: {'w': 1, '3': 1, 'r': 2, 'e': 2, 's': 1, 'o': 1, 'u': 1, 'c': 1}"
   ]
  },
  {
   "cell_type": "code",
   "execution_count": 88,
   "metadata": {},
   "outputs": [
    {
     "data": {
      "text/plain": [
       "Counter({'B': 1,\n",
       "         'i': 3,\n",
       "         'r': 2,\n",
       "         'n': 2,\n",
       "         'd': 1,\n",
       "         'e': 1,\n",
       "         'S': 2,\n",
       "         'g': 1,\n",
       "         'h': 2,\n",
       "         'u': 2,\n",
       "         'c': 1})"
      ]
     },
     "execution_count": 88,
     "metadata": {},
     "output_type": "execute_result"
    }
   ],
   "source": [
    "name = 'BirinderSinghSuchu'\n",
    "Counter(name)"
   ]
  },
  {
   "cell_type": "code",
   "execution_count": 89,
   "metadata": {},
   "outputs": [
    {
     "data": {
      "text/plain": [
       "{'B': 1,\n",
       " 'i': 3,\n",
       " 'r': 2,\n",
       " 'n': 2,\n",
       " 'd': 1,\n",
       " 'e': 1,\n",
       " 'S': 2,\n",
       " 'g': 1,\n",
       " 'h': 2,\n",
       " 'u': 2,\n",
       " 'c': 1}"
      ]
     },
     "execution_count": 89,
     "metadata": {},
     "output_type": "execute_result"
    }
   ],
   "source": [
    "dict(Counter(name))"
   ]
  },
  {
   "cell_type": "markdown",
   "metadata": {},
   "source": [
    "# Task 6"
   ]
  },
  {
   "cell_type": "code",
   "execution_count": null,
   "metadata": {},
   "outputs": [],
   "source": [
    "# Write a Python program to remove spaces from dictionary keys."
   ]
  },
  {
   "cell_type": "code",
   "execution_count": 117,
   "metadata": {},
   "outputs": [],
   "source": [
    "d1 = {'bir singh': 100, 'biri is': 200, 'c section': 300}"
   ]
  },
  {
   "cell_type": "code",
   "execution_count": 118,
   "metadata": {},
   "outputs": [],
   "source": [
    "d2 = {}\n",
    "for key in d1.keys():\n",
    "    d2[key.replace(' ','')] = d1[key]"
   ]
  },
  {
   "cell_type": "code",
   "execution_count": 119,
   "metadata": {},
   "outputs": [
    {
     "data": {
      "text/plain": [
       "{'bir singh': 100, 'biri is': 200, 'c section': 300}"
      ]
     },
     "execution_count": 119,
     "metadata": {},
     "output_type": "execute_result"
    }
   ],
   "source": [
    "d1"
   ]
  },
  {
   "cell_type": "code",
   "execution_count": 120,
   "metadata": {},
   "outputs": [
    {
     "data": {
      "text/plain": [
       "{'birsingh': 100, 'biriis': 200, 'csection': 300}"
      ]
     },
     "execution_count": 120,
     "metadata": {},
     "output_type": "execute_result"
    }
   ],
   "source": [
    "d2"
   ]
  },
  {
   "cell_type": "markdown",
   "metadata": {},
   "source": [
    "# Task 7"
   ]
  },
  {
   "cell_type": "code",
   "execution_count": 121,
   "metadata": {},
   "outputs": [],
   "source": [
    "# 40. Write a Python program to create a dictionary of keys x, y, and z where each key has as value a list from 11-20, 21-30, and 31-40 respectively. Access the fifth value of each key from the dictionary. Go to the editor\n",
    "# {'x': [11, 12, 13, 14, 15, 16, 17, 18, 19],\n",
    "# 'y': [21, 22, 23, 24, 25, 26, 27, 28, 29],\n",
    "# 'z': [31, 32, 33, 34, 35, 36, 37, 38, 39]}\n",
    "# 15\n",
    "# 25\n",
    "# 35\n",
    "# x has value [11, 12, 13, 14, 15, 16, 17, 18, 19]\n",
    "# y has value [21, 22, 23, 24, 25, 26, 27, 28, 29]\n",
    "# z has value [31, 32, 33, 34, 35, 36, 37, 38, 39]"
   ]
  },
  {
   "cell_type": "code",
   "execution_count": 123,
   "metadata": {},
   "outputs": [
    {
     "data": {
      "text/plain": [
       "array([11, 12, 13, 14, 15, 16, 17, 18, 19])"
      ]
     },
     "execution_count": 123,
     "metadata": {},
     "output_type": "execute_result"
    }
   ],
   "source": [
    "np.arange(11,20)"
   ]
  },
  {
   "cell_type": "code",
   "execution_count": 126,
   "metadata": {},
   "outputs": [],
   "source": [
    "key_list = ['x','y','z']\n",
    "d1 = {}\n",
    "a = 11\n",
    "b = 20\n",
    "for key in key_list:\n",
    "    d1[key] = np.arange(a,b)\n",
    "    a = a+10\n",
    "    b = b+10 "
   ]
  },
  {
   "cell_type": "code",
   "execution_count": 127,
   "metadata": {},
   "outputs": [
    {
     "data": {
      "text/plain": [
       "{'x': array([11, 12, 13, 14, 15, 16, 17, 18, 19]),\n",
       " 'y': array([21, 22, 23, 24, 25, 26, 27, 28, 29]),\n",
       " 'z': array([31, 32, 33, 34, 35, 36, 37, 38, 39])}"
      ]
     },
     "execution_count": 127,
     "metadata": {},
     "output_type": "execute_result"
    }
   ],
   "source": [
    "d1"
   ]
  },
  {
   "cell_type": "markdown",
   "metadata": {},
   "source": [
    "# Conditionals"
   ]
  },
  {
   "cell_type": "markdown",
   "metadata": {},
   "source": [
    "# Task 1"
   ]
  },
  {
   "cell_type": "code",
   "execution_count": 129,
   "metadata": {},
   "outputs": [],
   "source": [
    "# Write a Python program to find those numbers which \n",
    "# are divisible by 7 and multiple of 5, between 1500 and 2700 (both included)."
   ]
  },
  {
   "cell_type": "code",
   "execution_count": 130,
   "metadata": {},
   "outputs": [
    {
     "data": {
      "text/plain": [
       "[1505,\n",
       " 1540,\n",
       " 1575,\n",
       " 1610,\n",
       " 1645,\n",
       " 1680,\n",
       " 1715,\n",
       " 1750,\n",
       " 1785,\n",
       " 1820,\n",
       " 1855,\n",
       " 1890,\n",
       " 1925,\n",
       " 1960,\n",
       " 1995,\n",
       " 2030,\n",
       " 2065,\n",
       " 2100,\n",
       " 2135,\n",
       " 2170,\n",
       " 2205,\n",
       " 2240,\n",
       " 2275,\n",
       " 2310,\n",
       " 2345,\n",
       " 2380,\n",
       " 2415,\n",
       " 2450,\n",
       " 2485,\n",
       " 2520,\n",
       " 2555,\n",
       " 2590,\n",
       " 2625,\n",
       " 2660,\n",
       " 2695]"
      ]
     },
     "execution_count": 130,
     "metadata": {},
     "output_type": "execute_result"
    }
   ],
   "source": [
    "list_numbers = []\n",
    "for num in range(1500,2701):\n",
    "    if num%7 == 0:\n",
    "        if num%5 == 0:\n",
    "            list_numbers.append(num)\n",
    "        else:\n",
    "            pass\n",
    "    else:\n",
    "        pass\n",
    "list_numbers"
   ]
  },
  {
   "cell_type": "code",
   "execution_count": 131,
   "metadata": {},
   "outputs": [],
   "source": [
    "test= [1505,1540,1575,1610,1645,1680,1715,1750,1785,1820,1855,1890,1925,1960,1995,2030,2065,2100,2135,2170,2205,2240,\n",
    "2275,2310,2345,2380,2415,2450,2485,2520,2555,2590,2625,2660,2695 ]"
   ]
  },
  {
   "cell_type": "code",
   "execution_count": 133,
   "metadata": {},
   "outputs": [
    {
     "data": {
      "text/plain": [
       "True"
      ]
     },
     "execution_count": 133,
     "metadata": {},
     "output_type": "execute_result"
    }
   ],
   "source": [
    "test == list_numbers"
   ]
  },
  {
   "cell_type": "markdown",
   "metadata": {},
   "source": [
    "# Task 2 "
   ]
  },
  {
   "cell_type": "code",
   "execution_count": 138,
   "metadata": {},
   "outputs": [],
   "source": [
    "# Let the user enter a number and you reverse it "
   ]
  },
  {
   "cell_type": "code",
   "execution_count": 142,
   "metadata": {},
   "outputs": [
    {
     "name": "stdout",
     "output_type": "stream",
     "text": [
      "Enter a string : 123456789\n",
      "987654321\n"
     ]
    }
   ],
   "source": [
    "enter = input('Enter a string : ')\n",
    "print(enter[::-1])"
   ]
  },
  {
   "cell_type": "markdown",
   "metadata": {},
   "source": [
    "# Task 3 "
   ]
  },
  {
   "cell_type": "code",
   "execution_count": null,
   "metadata": {},
   "outputs": [],
   "source": [
    "# # 8. Write a Python program that prints all the numbers from 0 to 6 except 3 and 6.\n",
    "# Note : Use 'continue' statement.\n",
    "# Expected Output : 0 1 2 4 5"
   ]
  },
  {
   "cell_type": "code",
   "execution_count": 150,
   "metadata": {},
   "outputs": [
    {
     "name": "stdout",
     "output_type": "stream",
     "text": [
      "0 1 2 4 5 \n",
      "\n"
     ]
    }
   ],
   "source": [
    "for x in range(6):\n",
    "    if (x == 3 or x==6):\n",
    "        continue\n",
    "    print(x,end=' ')\n",
    "print(\"\\n\")"
   ]
  },
  {
   "cell_type": "code",
   "execution_count": 147,
   "metadata": {},
   "outputs": [
    {
     "name": "stdout",
     "output_type": "stream",
     "text": [
      "1\n",
      "2\n",
      "4\n",
      "5\n",
      "6\n",
      "7\n",
      "8\n",
      "9\n"
     ]
    }
   ],
   "source": [
    "i = 0\n",
    "while i < 9:\n",
    "    \n",
    "    i += 1\n",
    "    if i == 3:\n",
    "        continue\n",
    "    print(i)"
   ]
  },
  {
   "cell_type": "code",
   "execution_count": 160,
   "metadata": {},
   "outputs": [
    {
     "name": "stdout",
     "output_type": "stream",
     "text": [
      "1\n",
      "2\n",
      "4\n",
      "5\n",
      "7\n"
     ]
    }
   ],
   "source": [
    "i= 0\n",
    "while i <7:\n",
    "    i = i+1\n",
    "    if (i==3 or i==6):\n",
    "        continue \n",
    "    print(i)  "
   ]
  },
  {
   "cell_type": "markdown",
   "metadata": {},
   "source": [
    "# Task 4 "
   ]
  },
  {
   "cell_type": "code",
   "execution_count": 161,
   "metadata": {},
   "outputs": [],
   "source": [
    "# 15. Write a Python program to check the validity of password input by users. Go to the editor\n",
    "# Validation :\n",
    "\n",
    "# At least 1 letter between [a-z] and 1 letter between [A-Z].\n",
    "# At least 1 number between [0-9].\n",
    "# At least 1 character from [$#@].\n",
    "# Minimum length 6 characters.\n",
    "# Maximum length 16 characters."
   ]
  },
  {
   "cell_type": "code",
   "execution_count": 187,
   "metadata": {},
   "outputs": [
    {
     "name": "stdout",
     "output_type": "stream",
     "text": [
      "Please enter the password : *123de$54\n",
      "Not a Valid Password\n"
     ]
    }
   ],
   "source": [
    "password_entered = input('Please enter the password : ')\n",
    "x = True\n",
    "\n",
    "while x:  \n",
    "\n",
    "    if (len(password_entered)<6 or len(password_entered)>12):\n",
    "        break\n",
    "    elif not re.search(\"[a-z]\",password_entered):\n",
    "        break\n",
    "    elif not re.search(\"[0-9]\",password_entered):\n",
    "        break\n",
    "    elif not re.search(\"[A-Z]\",password_entered):\n",
    "        break\n",
    "    elif not re.search(\"[$#@]\",password_entered):\n",
    "        break\n",
    "    elif re.search(\"\\s\",password_entered):\n",
    "        break\n",
    "    else:\n",
    "        print(\"Valid Password\")\n",
    "        x=False\n",
    "        break\n",
    "\n",
    "if x:\n",
    "    print(\"Not a Valid Password\")"
   ]
  },
  {
   "cell_type": "markdown",
   "metadata": {},
   "source": [
    "# Misc "
   ]
  },
  {
   "cell_type": "code",
   "execution_count": 13,
   "metadata": {},
   "outputs": [
    {
     "data": {
      "text/plain": [
       "[0, 1, 1, 2, 3, 5, 8, 13, 21, 34, 55, 89, 144]"
      ]
     },
     "execution_count": 13,
     "metadata": {},
     "output_type": "execute_result"
    }
   ],
   "source": [
    "# Fibonacci Series \n",
    "\n",
    "a, b = 0,1\n",
    "list1 = []\n",
    "\n",
    "for i in range(13):\n",
    "    list1.append(a)\n",
    "    a,b = b, a+b\n",
    "list1"
   ]
  },
  {
   "cell_type": "code",
   "execution_count": 14,
   "metadata": {},
   "outputs": [],
   "source": [
    "n = 10\n",
    "fib_list = []\n",
    "a, b = 0 , 1 \n",
    "for index in range(10):\n",
    "    fib_list.append(a)\n",
    "    a,b = b,a+b  "
   ]
  },
  {
   "cell_type": "code",
   "execution_count": 15,
   "metadata": {},
   "outputs": [
    {
     "data": {
      "text/plain": [
       "[0, 1, 1, 2, 3, 5, 8, 13, 21, 34]"
      ]
     },
     "execution_count": 15,
     "metadata": {},
     "output_type": "execute_result"
    }
   ],
   "source": [
    "fib_list"
   ]
  },
  {
   "cell_type": "code",
   "execution_count": null,
   "metadata": {},
   "outputs": [],
   "source": [
    "# # Palindrome problem \n",
    "\n",
    "# Given a string, write a python function to check if it is palindrome or not. \n",
    "# A string is said to be palindrome if the \n",
    "# reverse of the string is the same as string. \n",
    "# For example, “radar” is a palindrome, but “radix” is not a palindrome."
   ]
  },
  {
   "cell_type": "code",
   "execution_count": 20,
   "metadata": {},
   "outputs": [
    {
     "name": "stdout",
     "output_type": "stream",
     "text": [
      "Yes, it is a palindrome\n"
     ]
    }
   ],
   "source": [
    "string = 'Radar'\n",
    "\n",
    "if string.lower() == string[::-1].lower():\n",
    "    print('Yes, it is a palindrome')\n",
    "else:\n",
    "    print('No, it is not a palindrome')"
   ]
  },
  {
   "cell_type": "code",
   "execution_count": 27,
   "metadata": {},
   "outputs": [
    {
     "name": "stdout",
     "output_type": "stream",
     "text": [
      "No, it is not a palindrome\n"
     ]
    }
   ],
   "source": [
    "string = 'Rada'\n",
    "string_reversed= ''\n",
    "\n",
    "for char in string:\n",
    "    string_reversed = char+string_reversed\n",
    "    \n",
    "if string_reversed.lower() == string_reversed[::-1].lower():\n",
    "    print('Yes, it is a palindrome')\n",
    "else:\n",
    "    print('No, it is not a palindrome')"
   ]
  },
  {
   "cell_type": "code",
   "execution_count": 33,
   "metadata": {},
   "outputs": [
    {
     "name": "stdout",
     "output_type": "stream",
     "text": [
      "Buzz\n"
     ]
    }
   ],
   "source": [
    "# Fizzbuzz problem\n",
    "\n",
    "num_input = 160\n",
    "\n",
    "if num_input %3 ==0 and num_input %5 ==0:\n",
    "    print('FizzBuzz')\n",
    "elif num_input % 3 ==0 :\n",
    "    print('Fizz')\n",
    "elif num_input %5 ==0:\n",
    "    print('Buzz')\n",
    "else:\n",
    "    pass\n"
   ]
  },
  {
   "cell_type": "code",
   "execution_count": 89,
   "metadata": {},
   "outputs": [],
   "source": [
    "# Good Practices in Coding \n",
    "# https://realpython.com/python-coding-interview-tips/"
   ]
  },
  {
   "cell_type": "code",
   "execution_count": 36,
   "metadata": {},
   "outputs": [],
   "source": [
    "# Use Enumerate \n",
    "\n",
    "numbers = [45, 22, 14, 65, 97, 72]\n",
    "for i, num in enumerate(numbers):\n",
    "     if num % 3 == 0 and num % 5 == 0:\n",
    "            numbers[i] = 'fizzbuzz'\n",
    "            \n",
    "     elif num % 3 == 0:\n",
    "            numbers[i] = 'fizz'\n",
    "            \n",
    "     elif num % 5 == 0:\n",
    "            numbers[i] = 'buzz'"
   ]
  },
  {
   "cell_type": "code",
   "execution_count": 41,
   "metadata": {},
   "outputs": [
    {
     "data": {
      "text/plain": [
       "['fizzbuzz', 22, 14, 'buzz', 97, 'fizz']"
      ]
     },
     "execution_count": 41,
     "metadata": {},
     "output_type": "execute_result"
    }
   ],
   "source": [
    "numbers"
   ]
  },
  {
   "cell_type": "code",
   "execution_count": 40,
   "metadata": {},
   "outputs": [
    {
     "name": "stdout",
     "output_type": "stream",
     "text": [
      "0 fizzbuzz\n",
      "1 22\n",
      "2 14\n",
      "3 buzz\n",
      "4 97\n",
      "5 fizz\n"
     ]
    }
   ],
   "source": [
    "for index, element in enumerate(numbers):\n",
    "    print(index, element)"
   ]
  },
  {
   "cell_type": "code",
   "execution_count": 42,
   "metadata": {},
   "outputs": [
    {
     "name": "stdout",
     "output_type": "stream",
     "text": [
      "52 45\n",
      "53 22\n",
      "54 14\n",
      "55 65\n",
      "56 97\n",
      "57 72\n"
     ]
    }
   ],
   "source": [
    "numbers = [45, 22, 14, 65, 97, 72]\n",
    "for i, num in enumerate(numbers, start=52):\n",
    "     print(i, num)\n"
   ]
  },
  {
   "cell_type": "code",
   "execution_count": 49,
   "metadata": {},
   "outputs": [
    {
     "data": {
      "text/plain": [
       "['biryyiu', 'yuoyu']"
      ]
     },
     "execution_count": 49,
     "metadata": {},
     "output_type": "execute_result"
    }
   ],
   "source": [
    "# Map on string and function\n",
    "\n",
    "list(map(str.lower, ['BirYYIU','yuoyu']))"
   ]
  },
  {
   "cell_type": "code",
   "execution_count": 50,
   "metadata": {},
   "outputs": [],
   "source": [
    "# Use List Comprehensions instead of Map or Lambda"
   ]
  },
  {
   "cell_type": "code",
   "execution_count": 51,
   "metadata": {},
   "outputs": [],
   "source": [
    "numbers = [4, 2, 1, 6, 9, 7]\n",
    "def square(x):\n",
    "     return x*x"
   ]
  },
  {
   "cell_type": "code",
   "execution_count": 53,
   "metadata": {},
   "outputs": [
    {
     "data": {
      "text/plain": [
       "[16, 4, 1, 36, 81, 49]"
      ]
     },
     "execution_count": 53,
     "metadata": {},
     "output_type": "execute_result"
    }
   ],
   "source": [
    "list(map(square, numbers))"
   ]
  },
  {
   "cell_type": "code",
   "execution_count": 55,
   "metadata": {},
   "outputs": [
    {
     "data": {
      "text/plain": [
       "[16, 4, 1, 36, 81, 49]"
      ]
     },
     "execution_count": 55,
     "metadata": {},
     "output_type": "execute_result"
    }
   ],
   "source": [
    "# Better : \n",
    "[square(x) for x in numbers]"
   ]
  },
  {
   "cell_type": "code",
   "execution_count": 67,
   "metadata": {},
   "outputs": [
    {
     "data": {
      "text/plain": [
       "[4, 6, 9, 7]"
      ]
     },
     "execution_count": 67,
     "metadata": {},
     "output_type": "execute_result"
    }
   ],
   "source": [
    "# List comprehensions with filters \n",
    "\n",
    "[x for x in numbers if x>3]"
   ]
  },
  {
   "cell_type": "code",
   "execution_count": 81,
   "metadata": {},
   "outputs": [],
   "source": [
    "def is_even(num):\n",
    "    if num%2 ==0:\n",
    "        return True\n",
    "    else:\n",
    "        return False"
   ]
  },
  {
   "cell_type": "code",
   "execution_count": 84,
   "metadata": {},
   "outputs": [
    {
     "data": {
      "text/plain": [
       "[4, 2, 6]"
      ]
     },
     "execution_count": 84,
     "metadata": {},
     "output_type": "execute_result"
    }
   ],
   "source": [
    "[x for x in numbers if is_even(x)]"
   ]
  },
  {
   "cell_type": "code",
   "execution_count": 86,
   "metadata": {},
   "outputs": [
    {
     "data": {
      "text/plain": [
       "[4, 2, 6]"
      ]
     },
     "execution_count": 86,
     "metadata": {},
     "output_type": "execute_result"
    }
   ],
   "source": [
    "list(filter(is_even, numbers))"
   ]
  },
  {
   "cell_type": "code",
   "execution_count": 88,
   "metadata": {},
   "outputs": [
    {
     "data": {
      "text/plain": [
       "\"My name is Maria and I'm 3.10000 decades old.\""
      ]
     },
     "execution_count": 88,
     "metadata": {},
     "output_type": "execute_result"
    }
   ],
   "source": [
    "def get_name_and_decades(name, age):\n",
    "     return f\"My name is {name} and I'm {age / 10:.5f} decades old.\"\n",
    "\n",
    "get_name_and_decades(\"Maria\", 31)\n"
   ]
  },
  {
   "cell_type": "code",
   "execution_count": null,
   "metadata": {},
   "outputs": [],
   "source": []
  }
 ],
 "metadata": {
  "kernelspec": {
   "display_name": "Python 3",
   "language": "python",
   "name": "python3"
  },
  "language_info": {
   "codemirror_mode": {
    "name": "ipython",
    "version": 3
   },
   "file_extension": ".py",
   "mimetype": "text/x-python",
   "name": "python",
   "nbconvert_exporter": "python",
   "pygments_lexer": "ipython3",
   "version": "3.7.4"
  }
 },
 "nbformat": 4,
 "nbformat_minor": 2
}
